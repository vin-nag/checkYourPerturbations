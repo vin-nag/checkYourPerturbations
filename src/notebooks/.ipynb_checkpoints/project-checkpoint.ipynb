{
 "cells": [
  {
   "cell_type": "markdown",
   "metadata": {
    "collapsed": true,
    "pycharm": {
     "name": "#%% md\n"
    }
   },
   "source": [
    "<h1> <centering> ECE 653 Final Project: Check Your Perturbations </centering> </h1>\n",
    "<h3> By Joseph Scott, Laura Graves, and Vineel Nagisetty </h3>"
   ]
  },
  {
   "cell_type": "code",
   "execution_count": null,
   "metadata": {
    "pycharm": {
     "name": "#%%\n"
    }
   },
   "outputs": [],
   "source": [
    "# clone the repo if running on colab\n",
    "import warnings\n",
    "warnings.filterwarnings('ignore')\n",
    "\n",
    "try:\n",
    "    import google.colab\n",
    "    !git clone https://github.com/vin-nag/checkYourPerturbations.git\n",
    "    !pip install func_timeout\n",
    "    %cd ./checkYourPerturbations/\n",
    "    !git clone https://github.com/tensorflow/cleverhans\n",
    "    %cd cleverhans\n",
    "    !pip install .\n",
    "    %cd ./../\n",
    "    inColab = True\n",
    "except:\n",
    "    %cd ./../\n",
    "    inColab = False"
   ]
  },
  {
   "cell_type": "code",
   "execution_count": null,
   "metadata": {
    "pycharm": {
     "is_executing": true,
     "name": "#%%\n"
    }
   },
   "outputs": [],
   "source": [
    "# imports\n",
    "from src.generator.factory import GeneratorSelector, GeneratorTypes\n",
    "from src.benchmark import BenchmarkEnums, Benchmark\n",
    "from src.evaluator import Evaluator"
   ]
  },
  {
   "cell_type": "code",
   "execution_count": null,
   "metadata": {
    "pycharm": {
     "is_executing": true
    }
   },
   "outputs": [],
   "source": [
    "# load the generators\n",
    "selector = GeneratorSelector()\n",
    "generators = selector.getAllGenerators()\n",
    "\n",
    "# view the different generators\n",
    "for generator in generators:\n",
    "    print(generator)"
   ]
  },
  {
   "cell_type": "code",
   "execution_count": null,
   "metadata": {
    "pycharm": {
     "is_executing": true,
     "name": "#%%\n"
    },
    "scrolled": true
   },
   "outputs": [],
   "source": [
    "# load and view the benchmark\n",
    "if inColab:\n",
    "    %cd src/\n",
    "benchmark = Benchmark(BenchmarkEnums.Demo)\n",
    "benchmark.data.head(3)"
   ]
  },
  {
   "cell_type": "code",
   "execution_count": null,
   "metadata": {
    "pycharm": {
     "is_executing": true,
     "name": "#%%\n"
    },
    "scrolled": false
   },
   "outputs": [],
   "source": [
    "# perform evaluation\n",
    "evaluator = Evaluator(benchmark=benchmark, generators=generators)\n",
    "evaluator.evaluate(timeMax=25)"
   ]
  }
 ],
 "metadata": {
  "kernelspec": {
   "display_name": "Python 3",
   "language": "python",
   "name": "python3"
  },
  "language_info": {
   "codemirror_mode": {
    "name": "ipython",
    "version": 3
   },
   "file_extension": ".py",
   "mimetype": "text/x-python",
   "name": "python",
   "nbconvert_exporter": "python",
   "pygments_lexer": "ipython3",
   "version": "3.6.9"
  }
 },
 "nbformat": 4,
 "nbformat_minor": 1
}
