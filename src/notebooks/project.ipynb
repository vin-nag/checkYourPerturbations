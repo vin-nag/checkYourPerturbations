{
 "cells": [
  {
   "cell_type": "markdown",
   "metadata": {
    "collapsed": true,
    "pycharm": {
     "name": "#%% md\n"
    }
   },
   "source": [
    "<h1> <centering> ECE 653 Final Project: Check Your Perturbations </centering> </h1>\n",
    "<h3> By Joseph Scott, Laura Graves, and Vineel Nagisetty </h3>"
   ]
  },
  {
   "cell_type": "code",
   "execution_count": 1,
   "metadata": {
    "pycharm": {
     "name": "#%%\n"
    }
   },
   "outputs": [
    {
     "name": "stdout",
     "output_type": "stream",
     "text": [
      "/home/vineel/PycharmProjects/cs858/checkYourPerturbations/src\n"
     ]
    }
   ],
   "source": [
    "# clone the repo if running on colab\n",
    "import warnings\n",
    "warnings.filterwarnings('ignore')\n",
    "\n",
    "try:\n",
    "    import google.colab\n",
    "    !git clone https://github.com/vin-nag/checkYourPerturbations.git\n",
    "    !pip install func_timeout\n",
    "    %cd ./checkYourPerturbations/\n",
    "    !git clone https://github.com/tensorflow/cleverhans\n",
    "    %cd cleverhans\n",
    "    !pip install .\n",
    "    %cd ./../\n",
    "    inColab = True\n",
    "except:\n",
    "    %cd ./../\n",
    "    inColab = False"
   ]
  },
  {
   "cell_type": "code",
   "execution_count": 2,
   "metadata": {
    "pycharm": {
     "is_executing": true,
     "name": "#%%\n"
    }
   },
   "outputs": [
    {
     "name": "stderr",
     "output_type": "stream",
     "text": [
      "Using TensorFlow backend.\n"
     ]
    }
   ],
   "source": [
    "# imports\n",
    "from src.generator.factory import GeneratorSelector, GeneratorTypes\n",
    "from src.benchmark import BenchmarkEnums, Benchmark\n",
    "from src.evaluator import Evaluator\n",
    "import matplotlib.pyplot as plt\n",
    "%matplotlib inline"
   ]
  },
  {
   "cell_type": "code",
   "execution_count": 3,
   "metadata": {
    "pycharm": {
     "is_executing": true
    }
   },
   "outputs": [
    {
     "name": "stdout",
     "output_type": "stream",
     "text": [
      "StepFuzz\n",
      "NormFuzz\n",
      "LaplaceFuzz\n",
      "VinFuzz\n",
      "DLFuzz\n",
      "bim\n",
      "fgsm\n"
     ]
    }
   ],
   "source": [
    "# load the generators\n",
    "selector = GeneratorSelector()\n",
    "generators = selector.getAllGenerators()\n",
    "\n",
    "# view the different generators\n",
    "for generator in generators:\n",
    "    print(generator)"
   ]
  },
  {
   "cell_type": "code",
   "execution_count": 4,
   "metadata": {
    "pycharm": {
     "is_executing": true,
     "name": "#%%\n"
    },
    "scrolled": true
   },
   "outputs": [
    {
     "name": "stdout",
     "output_type": "stream",
     "text": [
      "Created benchmark with shape: (4, 4).\n"
     ]
    },
    {
     "data": {
      "text/html": [
       "<div>\n",
       "<style scoped>\n",
       "    .dataframe tbody tr th:only-of-type {\n",
       "        vertical-align: middle;\n",
       "    }\n",
       "\n",
       "    .dataframe tbody tr th {\n",
       "        vertical-align: top;\n",
       "    }\n",
       "\n",
       "    .dataframe thead th {\n",
       "        text-align: right;\n",
       "    }\n",
       "</style>\n",
       "<table border=\"1\" class=\"dataframe\">\n",
       "  <thead>\n",
       "    <tr style=\"text-align: right;\">\n",
       "      <th></th>\n",
       "      <th>modelName</th>\n",
       "      <th>model</th>\n",
       "      <th>image</th>\n",
       "      <th>label</th>\n",
       "    </tr>\n",
       "  </thead>\n",
       "  <tbody>\n",
       "    <tr>\n",
       "      <th>0</th>\n",
       "      <td>robust</td>\n",
       "      <td>&lt;tensorflow.python.keras.engine.sequential.Seq...</td>\n",
       "      <td>[[[[-0.5], [-0.5], [-0.5], [-0.5], [-0.5], [-0...</td>\n",
       "      <td>9</td>\n",
       "    </tr>\n",
       "    <tr>\n",
       "      <th>1</th>\n",
       "      <td>robust</td>\n",
       "      <td>&lt;tensorflow.python.keras.engine.sequential.Seq...</td>\n",
       "      <td>[[[[-0.5], [-0.5], [-0.5], [-0.5], [-0.5], [-0...</td>\n",
       "      <td>1</td>\n",
       "    </tr>\n",
       "    <tr>\n",
       "      <th>2</th>\n",
       "      <td>robust</td>\n",
       "      <td>&lt;tensorflow.python.keras.engine.sequential.Seq...</td>\n",
       "      <td>[[[[-0.5], [-0.5], [-0.5], [-0.5], [-0.5], [-0...</td>\n",
       "      <td>3</td>\n",
       "    </tr>\n",
       "  </tbody>\n",
       "</table>\n",
       "</div>"
      ],
      "text/plain": [
       "  modelName                                              model  \\\n",
       "0    robust  <tensorflow.python.keras.engine.sequential.Seq...   \n",
       "1    robust  <tensorflow.python.keras.engine.sequential.Seq...   \n",
       "2    robust  <tensorflow.python.keras.engine.sequential.Seq...   \n",
       "\n",
       "                                               image label  \n",
       "0  [[[[-0.5], [-0.5], [-0.5], [-0.5], [-0.5], [-0...     9  \n",
       "1  [[[[-0.5], [-0.5], [-0.5], [-0.5], [-0.5], [-0...     1  \n",
       "2  [[[[-0.5], [-0.5], [-0.5], [-0.5], [-0.5], [-0...     3  "
      ]
     },
     "execution_count": 4,
     "metadata": {},
     "output_type": "execute_result"
    }
   ],
   "source": [
    "# load and view the benchmark\n",
    "if inColab:\n",
    "    %cd ./../\n",
    "benchmark = Benchmark(BenchmarkEnums.Demo)\n",
    "benchmark.data.head(3)"
   ]
  },
  {
   "cell_type": "code",
   "execution_count": 5,
   "metadata": {
    "pycharm": {
     "is_executing": true,
     "name": "#%%\n"
    },
    "scrolled": false
   },
   "outputs": [
    {
     "data": {
      "image/png": "[encoded data removed]",
      "text/plain": [
       "<Figure size 432x288 with 1 Axes>"
      ]
     },
     "metadata": {
      "needs_background": "light"
     },
     "output_type": "display_data"
    }
   ],
   "source": [
    "# perform evaluation\n",
    "evaluator = Evaluator(benchmark=benchmark, generators=generators, timeLimit=25, verbose=False)\n",
    "results = evaluator.evaluate(display=False)"
   ]
  }
 ],
 "metadata": {
  "kernelspec": {
   "display_name": "Python 3",
   "language": "python",
   "name": "python3"
  },
  "language_info": {
   "codemirror_mode": {
    "name": "ipython",
    "version": 3
   },
   "file_extension": ".py",
   "mimetype": "text/x-python",
   "name": "python",
   "nbconvert_exporter": "python",
   "pygments_lexer": "ipython3",
   "version": "3.6.9"
  }
 },
 "nbformat": 4,
 "nbformat_minor": 1
}